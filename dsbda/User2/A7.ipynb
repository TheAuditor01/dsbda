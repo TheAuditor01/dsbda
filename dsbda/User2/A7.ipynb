{
 "cells": [
  {
   "cell_type": "markdown",
   "id": "7d74d816",
   "metadata": {},
   "source": [
    "<!-- Text Analytics\n",
    "\n",
    "1. Extract Sample document and apply following document preprocessing methods:\n",
    "Tokenization, POS Tagging, stop words removal, Stemming and Lemmatization.\n",
    "2. Create representation of document by calculating Term Frequency and Inverse Document\n",
    "Frequency. -->"
   ]
  },
  {
   "cell_type": "code",
   "execution_count": 10,
   "id": "of0iiwZItlrw",
   "metadata": {
    "id": "of0iiwZItlrw"
   },
   "outputs": [],
   "source": [
    "import pandas as pd\n",
    "import nltk\n",
    "from nltk.tokenize import word_tokenize\n",
    "from nltk.corpus import stopwords\n",
    "from nltk.stem import PorterStemmer, WordNetLemmatizer\n",
    "from nltk import pos_tag\n",
    "from sklearn.feature_extraction.text import TfidfVectorizer\n"
   ]
  },
  {
   "cell_type": "code",
   "execution_count": 2,
   "id": "30e7386f",
   "metadata": {
    "id": "30e7386f"
   },
   "outputs": [],
   "source": [
    "sample_document = \"\"\"\n",
    "Natural language processing (NLP) is a field of computer science, artificial intelligence, and computational linguistics concerned with the interactions between computers and human (natural) languages. \n",
    "As such, NLP is related to the area of human–computer interaction. \n",
    "Many challenges in NLP involve natural language understanding, that is, enabling computers to derive meaning from human or natural language input, and others involve natural language generation. \n",
    "\"\"\"\n"
   ]
  },
  {
   "cell_type": "code",
   "execution_count": 3,
   "id": "f4ed674e",
   "metadata": {},
   "outputs": [],
   "source": [
    "#Download the below files if error occurs\n",
    "\n",
    "# import nltk\n",
    "# nltk.download('punkt')\n",
    "# nltk.download('averaged_perceptron_tagger')\n",
    "# nltk.download('wordnet')\n",
    "# nltk.download('stopwords')"
   ]
  },
  {
   "cell_type": "code",
   "execution_count": 4,
   "id": "c00a2c90",
   "metadata": {
    "id": "c00a2c90"
   },
   "outputs": [],
   "source": [
    "#Tokenization\n",
    "tokens = word_tokenize(sample_document)\n"
   ]
  },
  {
   "cell_type": "code",
   "execution_count": 5,
   "id": "484f9a1a",
   "metadata": {
    "id": "484f9a1a"
   },
   "outputs": [],
   "source": [
    "#POS Tagging\n",
    "pos_tags = pos_tag(tokens)\n"
   ]
  },
  {
   "cell_type": "code",
   "execution_count": 6,
   "id": "757a2a87",
   "metadata": {
    "id": "757a2a87"
   },
   "outputs": [],
   "source": [
    "#Stopwords Removal\n",
    "stop_words = set(stopwords.words('english'))\n",
    "filtered_tokens = [token for token in tokens if token.lower() not in stop_words]\n"
   ]
  },
  {
   "cell_type": "code",
   "execution_count": 7,
   "id": "Z1b39DQqtz27",
   "metadata": {
    "id": "Z1b39DQqtz27"
   },
   "outputs": [],
   "source": [
    "# Stemming\n",
    "stemmer = PorterStemmer()\n",
    "stemmed_tokens = [stemmer.stem(token) for token in filtered_tokens]\n"
   ]
  },
  {
   "cell_type": "code",
   "execution_count": 11,
   "id": "d2525888",
   "metadata": {
    "id": "d2525888"
   },
   "outputs": [],
   "source": [
    "#Lemmatization\n",
    "lemmatizer = WordNetLemmatizer()\n",
    "lemmatized_tokens = [lemmatizer.lemmatize(token) for token in filtered_tokens]\n"
   ]
  },
  {
   "cell_type": "code",
   "execution_count": 12,
   "id": "IJR_5QtwuDsa",
   "metadata": {
    "id": "IJR_5QtwuDsa"
   },
   "outputs": [],
   "source": [
    "corpus = [sample_document]\n",
    "vectorizer = TfidfVectorizer()\n",
    "X = vectorizer.fit_transform(corpus)\n",
    "tfidf_df = pd.DataFrame(X.toarray(), columns=vectorizer.get_feature_names_out())\n"
   ]
  },
  {
   "cell_type": "code",
   "execution_count": 13,
   "id": "ae25d08f",
   "metadata": {
    "id": "ae25d08f"
   },
   "outputs": [
    {
     "data": {
      "text/html": [
       "<div>\n",
       "<style scoped>\n",
       "    .dataframe tbody tr th:only-of-type {\n",
       "        vertical-align: middle;\n",
       "    }\n",
       "\n",
       "    .dataframe tbody tr th {\n",
       "        vertical-align: top;\n",
       "    }\n",
       "\n",
       "    .dataframe thead th {\n",
       "        text-align: right;\n",
       "    }\n",
       "</style>\n",
       "<table border=\"1\" class=\"dataframe\">\n",
       "  <thead>\n",
       "    <tr style=\"text-align: right;\">\n",
       "      <th></th>\n",
       "      <th>and</th>\n",
       "      <th>area</th>\n",
       "      <th>artificial</th>\n",
       "      <th>as</th>\n",
       "      <th>between</th>\n",
       "      <th>challenges</th>\n",
       "      <th>computational</th>\n",
       "      <th>computer</th>\n",
       "      <th>computers</th>\n",
       "      <th>concerned</th>\n",
       "      <th>...</th>\n",
       "      <th>others</th>\n",
       "      <th>processing</th>\n",
       "      <th>related</th>\n",
       "      <th>science</th>\n",
       "      <th>such</th>\n",
       "      <th>that</th>\n",
       "      <th>the</th>\n",
       "      <th>to</th>\n",
       "      <th>understanding</th>\n",
       "      <th>with</th>\n",
       "    </tr>\n",
       "  </thead>\n",
       "  <tbody>\n",
       "    <tr>\n",
       "      <th>0</th>\n",
       "      <td>0.262111</td>\n",
       "      <td>0.08737</td>\n",
       "      <td>0.08737</td>\n",
       "      <td>0.08737</td>\n",
       "      <td>0.08737</td>\n",
       "      <td>0.08737</td>\n",
       "      <td>0.08737</td>\n",
       "      <td>0.174741</td>\n",
       "      <td>0.174741</td>\n",
       "      <td>0.08737</td>\n",
       "      <td>...</td>\n",
       "      <td>0.08737</td>\n",
       "      <td>0.08737</td>\n",
       "      <td>0.08737</td>\n",
       "      <td>0.08737</td>\n",
       "      <td>0.08737</td>\n",
       "      <td>0.08737</td>\n",
       "      <td>0.174741</td>\n",
       "      <td>0.174741</td>\n",
       "      <td>0.08737</td>\n",
       "      <td>0.08737</td>\n",
       "    </tr>\n",
       "  </tbody>\n",
       "</table>\n",
       "<p>1 rows × 42 columns</p>\n",
       "</div>"
      ],
      "text/plain": [
       "        and     area  artificial       as  between  challenges  computational  \\\n",
       "0  0.262111  0.08737     0.08737  0.08737  0.08737     0.08737        0.08737   \n",
       "\n",
       "   computer  computers  concerned  ...   others  processing  related  science  \\\n",
       "0  0.174741   0.174741    0.08737  ...  0.08737     0.08737  0.08737  0.08737   \n",
       "\n",
       "      such     that       the        to  understanding     with  \n",
       "0  0.08737  0.08737  0.174741  0.174741        0.08737  0.08737  \n",
       "\n",
       "[1 rows x 42 columns]"
      ]
     },
     "execution_count": 13,
     "metadata": {},
     "output_type": "execute_result"
    }
   ],
   "source": [
    "tfidf_df"
   ]
  },
  {
   "cell_type": "code",
   "execution_count": null,
   "id": "87984b5d",
   "metadata": {},
   "outputs": [],
   "source": []
  }
 ],
 "metadata": {
  "colab": {
   "provenance": []
  },
  "kernelspec": {
   "display_name": "Python 3 (ipykernel)",
   "language": "python",
   "name": "python3"
  },
  "language_info": {
   "codemirror_mode": {
    "name": "ipython",
    "version": 3
   },
   "file_extension": ".py",
   "mimetype": "text/x-python",
   "name": "python",
   "nbconvert_exporter": "python",
   "pygments_lexer": "ipython3",
   "version": "3.10.11"
  }
 },
 "nbformat": 4,
 "nbformat_minor": 5
}
