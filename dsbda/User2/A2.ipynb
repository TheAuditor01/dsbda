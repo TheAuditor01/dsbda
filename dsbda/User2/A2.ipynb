{
 "cells": [
  {
   "cell_type": "code",
   "execution_count": 59,
   "metadata": {},
   "outputs": [],
   "source": [
    "import pandas as pd\n",
    "import seaborn as sns\n",
    "import numpy as np\n",
    "import matplotlib.pyplot as plt"
   ]
  },
  {
   "cell_type": "code",
   "execution_count": 60,
   "metadata": {},
   "outputs": [
    {
     "data": {
      "text/plain": [
       "(   Rollno      Name Gender Branch  Attendence  Phy_marks  Che_marks  \\\n",
       " 0       1  Mohammed      M   Comp        72.0       62.0       98.0   \n",
       " 1       2   Reyansh      M     IT        58.0       62.0       83.0   \n",
       " 2       3     Aarav      M     IT        57.0      -20.0      100.0   \n",
       " 3       4    Atharv      M     IT        60.0       89.0       83.0   \n",
       " 4       5    Vivaan      M   Comp        85.0       90.0        NaN   \n",
       " \n",
       "    EM1_marks  PPS_marks  SME_marks  Total Marks  Percentage  \n",
       " 0       63.0       89.0       36.0          368        73.6  \n",
       " 1       83.0       88.0       34.0          350        70.0  \n",
       " 2        NaN       56.0       36.0          192        38.4  \n",
       " 3       70.0       33.0       23.0          298        59.6  \n",
       " 4       78.0       23.0       56.0          247        49.4  ,\n",
       " (20, 12))"
      ]
     },
     "execution_count": 60,
     "metadata": {},
     "output_type": "execute_result"
    }
   ],
   "source": [
    "data=pd.read_csv(\"Academic-Performance-Dataset.csv\")\n",
    "data.head(),data.shape"
   ]
  },
  {
   "cell_type": "code",
   "execution_count": 61,
   "metadata": {},
   "outputs": [
    {
     "data": {
      "text/plain": [
       "Rollno         0\n",
       "Name           2\n",
       "Gender         0\n",
       "Branch         0\n",
       "Attendence     0\n",
       "Phy_marks      1\n",
       "Che_marks      3\n",
       "EM1_marks      2\n",
       "PPS_marks      1\n",
       "SME_marks      0\n",
       "Total Marks    0\n",
       "Percentage     0\n",
       "dtype: int64"
      ]
     },
     "execution_count": 61,
     "metadata": {},
     "output_type": "execute_result"
    }
   ],
   "source": [
    "data.isna().sum()"
   ]
  },
  {
   "cell_type": "code",
   "execution_count": 62,
   "metadata": {},
   "outputs": [
    {
     "data": {
      "text/html": [
       "<div>\n",
       "<style scoped>\n",
       "    .dataframe tbody tr th:only-of-type {\n",
       "        vertical-align: middle;\n",
       "    }\n",
       "\n",
       "    .dataframe tbody tr th {\n",
       "        vertical-align: top;\n",
       "    }\n",
       "\n",
       "    .dataframe thead th {\n",
       "        text-align: right;\n",
       "    }\n",
       "</style>\n",
       "<table border=\"1\" class=\"dataframe\">\n",
       "  <thead>\n",
       "    <tr style=\"text-align: right;\">\n",
       "      <th></th>\n",
       "      <th>Rollno</th>\n",
       "      <th>Name</th>\n",
       "      <th>Gender</th>\n",
       "      <th>Branch</th>\n",
       "      <th>Attendence</th>\n",
       "      <th>Phy_marks</th>\n",
       "      <th>Che_marks</th>\n",
       "      <th>EM1_marks</th>\n",
       "      <th>PPS_marks</th>\n",
       "      <th>SME_marks</th>\n",
       "      <th>Total Marks</th>\n",
       "      <th>Percentage</th>\n",
       "    </tr>\n",
       "  </thead>\n",
       "  <tbody>\n",
       "    <tr>\n",
       "      <th>0</th>\n",
       "      <td>1</td>\n",
       "      <td>Mohammed</td>\n",
       "      <td>M</td>\n",
       "      <td>Comp</td>\n",
       "      <td>72.0</td>\n",
       "      <td>62.0</td>\n",
       "      <td>98.0</td>\n",
       "      <td>63.0</td>\n",
       "      <td>89.0</td>\n",
       "      <td>36.0</td>\n",
       "      <td>368</td>\n",
       "      <td>73.6</td>\n",
       "    </tr>\n",
       "    <tr>\n",
       "      <th>1</th>\n",
       "      <td>2</td>\n",
       "      <td>Reyansh</td>\n",
       "      <td>M</td>\n",
       "      <td>IT</td>\n",
       "      <td>58.0</td>\n",
       "      <td>62.0</td>\n",
       "      <td>83.0</td>\n",
       "      <td>83.0</td>\n",
       "      <td>88.0</td>\n",
       "      <td>34.0</td>\n",
       "      <td>350</td>\n",
       "      <td>70.0</td>\n",
       "    </tr>\n",
       "    <tr>\n",
       "      <th>3</th>\n",
       "      <td>4</td>\n",
       "      <td>Atharv</td>\n",
       "      <td>M</td>\n",
       "      <td>IT</td>\n",
       "      <td>60.0</td>\n",
       "      <td>89.0</td>\n",
       "      <td>83.0</td>\n",
       "      <td>70.0</td>\n",
       "      <td>33.0</td>\n",
       "      <td>23.0</td>\n",
       "      <td>298</td>\n",
       "      <td>59.6</td>\n",
       "    </tr>\n",
       "    <tr>\n",
       "      <th>5</th>\n",
       "      <td>6</td>\n",
       "      <td>Advik</td>\n",
       "      <td>M</td>\n",
       "      <td>ENTC</td>\n",
       "      <td>94.0</td>\n",
       "      <td>99.0</td>\n",
       "      <td>84.0</td>\n",
       "      <td>100.0</td>\n",
       "      <td>56.0</td>\n",
       "      <td>99.0</td>\n",
       "      <td>438</td>\n",
       "      <td>87.6</td>\n",
       "    </tr>\n",
       "    <tr>\n",
       "      <th>6</th>\n",
       "      <td>7</td>\n",
       "      <td>Ansh</td>\n",
       "      <td>M</td>\n",
       "      <td>ENTC</td>\n",
       "      <td>98.0</td>\n",
       "      <td>88.0</td>\n",
       "      <td>95.0</td>\n",
       "      <td>81.0</td>\n",
       "      <td>78.0</td>\n",
       "      <td>78.0</td>\n",
       "      <td>420</td>\n",
       "      <td>84.0</td>\n",
       "    </tr>\n",
       "    <tr>\n",
       "      <th>7</th>\n",
       "      <td>8</td>\n",
       "      <td>Ishaan</td>\n",
       "      <td>M</td>\n",
       "      <td>ENTC</td>\n",
       "      <td>75.0</td>\n",
       "      <td>66.0</td>\n",
       "      <td>51.0</td>\n",
       "      <td>83.0</td>\n",
       "      <td>-99.0</td>\n",
       "      <td>76.0</td>\n",
       "      <td>192</td>\n",
       "      <td>38.4</td>\n",
       "    </tr>\n",
       "    <tr>\n",
       "      <th>10</th>\n",
       "      <td>11</td>\n",
       "      <td>Vihaan</td>\n",
       "      <td>M</td>\n",
       "      <td>ENTC</td>\n",
       "      <td>82.0</td>\n",
       "      <td>54.0</td>\n",
       "      <td>70.0</td>\n",
       "      <td>88.0</td>\n",
       "      <td>55.0</td>\n",
       "      <td>56.0</td>\n",
       "      <td>323</td>\n",
       "      <td>64.6</td>\n",
       "    </tr>\n",
       "    <tr>\n",
       "      <th>13</th>\n",
       "      <td>14</td>\n",
       "      <td>Leo</td>\n",
       "      <td>M</td>\n",
       "      <td>IT</td>\n",
       "      <td>98.0</td>\n",
       "      <td>-34.0</td>\n",
       "      <td>70.0</td>\n",
       "      <td>94.0</td>\n",
       "      <td>77.0</td>\n",
       "      <td>66.0</td>\n",
       "      <td>273</td>\n",
       "      <td>54.6</td>\n",
       "    </tr>\n",
       "    <tr>\n",
       "      <th>14</th>\n",
       "      <td>15</td>\n",
       "      <td>Maryam</td>\n",
       "      <td>F</td>\n",
       "      <td>IT</td>\n",
       "      <td>64.0</td>\n",
       "      <td>87.0</td>\n",
       "      <td>60.0</td>\n",
       "      <td>90.0</td>\n",
       "      <td>65.0</td>\n",
       "      <td>90.0</td>\n",
       "      <td>392</td>\n",
       "      <td>78.4</td>\n",
       "    </tr>\n",
       "    <tr>\n",
       "      <th>15</th>\n",
       "      <td>16</td>\n",
       "      <td>Saanvi</td>\n",
       "      <td>F</td>\n",
       "      <td>Comp</td>\n",
       "      <td>66.0</td>\n",
       "      <td>90.0</td>\n",
       "      <td>95.0</td>\n",
       "      <td>67.0</td>\n",
       "      <td>99.0</td>\n",
       "      <td>77.0</td>\n",
       "      <td>428</td>\n",
       "      <td>85.6</td>\n",
       "    </tr>\n",
       "    <tr>\n",
       "      <th>17</th>\n",
       "      <td>18</td>\n",
       "      <td>Inaya</td>\n",
       "      <td>F</td>\n",
       "      <td>Comp</td>\n",
       "      <td>74.0</td>\n",
       "      <td>67.0</td>\n",
       "      <td>93.0</td>\n",
       "      <td>93.0</td>\n",
       "      <td>87.0</td>\n",
       "      <td>99.0</td>\n",
       "      <td>439</td>\n",
       "      <td>87.8</td>\n",
       "    </tr>\n",
       "    <tr>\n",
       "      <th>18</th>\n",
       "      <td>19</td>\n",
       "      <td>Aarya</td>\n",
       "      <td>F</td>\n",
       "      <td>Comp</td>\n",
       "      <td>72.0</td>\n",
       "      <td>88.0</td>\n",
       "      <td>84.0</td>\n",
       "      <td>81.0</td>\n",
       "      <td>80.0</td>\n",
       "      <td>45.0</td>\n",
       "      <td>378</td>\n",
       "      <td>75.6</td>\n",
       "    </tr>\n",
       "  </tbody>\n",
       "</table>\n",
       "</div>"
      ],
      "text/plain": [
       "    Rollno      Name Gender Branch  Attendence  Phy_marks  Che_marks  \\\n",
       "0        1  Mohammed      M   Comp        72.0       62.0       98.0   \n",
       "1        2   Reyansh      M     IT        58.0       62.0       83.0   \n",
       "3        4    Atharv      M     IT        60.0       89.0       83.0   \n",
       "5        6     Advik      M   ENTC        94.0       99.0       84.0   \n",
       "6        7      Ansh      M   ENTC        98.0       88.0       95.0   \n",
       "7        8    Ishaan      M   ENTC        75.0       66.0       51.0   \n",
       "10      11    Vihaan      M   ENTC        82.0       54.0       70.0   \n",
       "13      14       Leo      M     IT        98.0      -34.0       70.0   \n",
       "14      15    Maryam      F     IT        64.0       87.0       60.0   \n",
       "15      16    Saanvi      F   Comp        66.0       90.0       95.0   \n",
       "17      18     Inaya      F   Comp        74.0       67.0       93.0   \n",
       "18      19     Aarya      F   Comp        72.0       88.0       84.0   \n",
       "\n",
       "    EM1_marks  PPS_marks  SME_marks  Total Marks  Percentage  \n",
       "0        63.0       89.0       36.0          368        73.6  \n",
       "1        83.0       88.0       34.0          350        70.0  \n",
       "3        70.0       33.0       23.0          298        59.6  \n",
       "5       100.0       56.0       99.0          438        87.6  \n",
       "6        81.0       78.0       78.0          420        84.0  \n",
       "7        83.0      -99.0       76.0          192        38.4  \n",
       "10       88.0       55.0       56.0          323        64.6  \n",
       "13       94.0       77.0       66.0          273        54.6  \n",
       "14       90.0       65.0       90.0          392        78.4  \n",
       "15       67.0       99.0       77.0          428        85.6  \n",
       "17       93.0       87.0       99.0          439        87.8  \n",
       "18       81.0       80.0       45.0          378        75.6  "
      ]
     },
     "execution_count": 62,
     "metadata": {},
     "output_type": "execute_result"
    }
   ],
   "source": [
    "data.dropna()"
   ]
  },
  {
   "cell_type": "code",
   "execution_count": 63,
   "metadata": {},
   "outputs": [
    {
     "data": {
      "image/png": "[encoded data removed]",
      "text/plain": [
       "<Figure size 1000x800 with 1 Axes>"
      ]
     },
     "metadata": {},
     "output_type": "display_data"
    }
   ],
   "source": [
    "numeric_columns = ['Attendence', 'Phy_marks', 'Che_marks', 'EM1_marks', 'PPS_marks', 'SME_marks', 'Percentage']\n",
    "\n",
    "plt.figure(figsize=(10, 8))\n",
    "sns.boxplot(data=data[numeric_columns])\n",
    "plt.title('Boxplot of Academic Performance')\n",
    "plt.show()"
   ]
  },
  {
   "cell_type": "code",
   "execution_count": 64,
   "metadata": {},
   "outputs": [
    {
     "data": {
      "image/png": "[encoded data removed]",
      "text/plain": [
       "<Figure size 1000x800 with 1 Axes>"
      ]
     },
     "metadata": {},
     "output_type": "display_data"
    }
   ],
   "source": [
    "#Removing of the outliers\n",
    "\n",
    "df = data[data[numeric_columns] >= 0]\n",
    "\n",
    "plt.figure(figsize=(10, 8))\n",
    "sns.boxplot(data=df[numeric_columns])\n",
    "plt.title('Boxplot of Academic Performance')\n",
    "plt.show()"
   ]
  },
  {
   "cell_type": "code",
   "execution_count": 65,
   "metadata": {},
   "outputs": [],
   "source": [
    "# Apply logarithmic transformation to 'Math_Score'\n",
    "data['Rollno'] = np.log(data['Rollno'])"
   ]
  },
  {
   "cell_type": "code",
   "execution_count": 66,
   "metadata": {},
   "outputs": [
    {
     "name": "stdout",
     "output_type": "stream",
     "text": [
      "Gender\n",
      "M    14\n",
      "F     6\n",
      "Name: count, dtype: int64\n"
     ]
    }
   ],
   "source": [
    "# Check for inconsistencies\n",
    "print(data['Gender'].value_counts())"
   ]
  },
  {
   "cell_type": "code",
   "execution_count": null,
   "metadata": {},
   "outputs": [],
   "source": []
  }
 ],
 "metadata": {
  "kernelspec": {
   "display_name": "Python 3",
   "language": "python",
   "name": "python3"
  },
  "language_info": {
   "codemirror_mode": {
    "name": "ipython",
    "version": 3
   },
   "file_extension": ".py",
   "mimetype": "text/x-python",
   "name": "python",
   "nbconvert_exporter": "python",
   "pygments_lexer": "ipython3",
   "version": "3.10.11"
  }
 },
 "nbformat": 4,
 "nbformat_minor": 2
}
